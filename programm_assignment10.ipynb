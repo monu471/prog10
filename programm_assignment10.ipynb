{
 "cells": [
  {
   "cell_type": "code",
   "execution_count": null,
   "id": "4822c139",
   "metadata": {},
   "outputs": [],
   "source": [
    "# Write a Python program to find sum of elements in list?\n",
    "def sum_list(*a):\n",
    "    return([sum(a)])"
   ]
  },
  {
   "cell_type": "code",
   "execution_count": null,
   "id": "e03587ac",
   "metadata": {},
   "outputs": [],
   "source": [
    "# Write a Python program to Multiply all numbers in the list?\n",
    "l = [1,56,3,63,756,36,9]\n",
    "mul = 1\n",
    "for i in range(0,len(l)):\n",
    "    mul = mul*l[i]\n",
    "print(\"multification of the the list is \",mul)\n",
    "    "
   ]
  },
  {
   "cell_type": "code",
   "execution_count": null,
   "id": "5a0e81d2",
   "metadata": {},
   "outputs": [],
   "source": [
    "# Write a Python program to find smallest number in a list?\n",
    "l = [108,568,3,634,75,36,9]\n",
    "l.sort()\n",
    "print(\"smallest number in the list\",l[0])\n"
   ]
  },
  {
   "cell_type": "code",
   "execution_count": null,
   "id": "c2cf6d34",
   "metadata": {},
   "outputs": [],
   "source": [
    "# Write a Python program to find largest number in a list?\n",
    "l = [108,568,3,634,75,36,9]\n",
    "l.sort()\n",
    "print(\"largest number in the list\",l[len(l)-1])"
   ]
  },
  {
   "cell_type": "code",
   "execution_count": null,
   "id": "258f106f",
   "metadata": {},
   "outputs": [],
   "source": [
    "# Write a Python program to find second largest number in a list?\n",
    "k = [456,36,9,9765,4564,45426,645]\n",
    "k.sort()\n",
    "print(\"second largest number is\",k[len(k)-2])\n",
    "\n"
   ]
  },
  {
   "cell_type": "code",
   "execution_count": null,
   "id": "3741f7c0",
   "metadata": {},
   "outputs": [],
   "source": [
    "# Write a Python program to find N largest elements from a list?\n",
    "def max_list(*a):\n",
    "    return([max(a)])\n",
    "\n"
   ]
  },
  {
   "cell_type": "code",
   "execution_count": null,
   "id": "a88b1f12",
   "metadata": {},
   "outputs": [],
   "source": [
    "# Write a Python program to print even numbers in a list?\n",
    "l = [12,36,88,27,36,289]\n",
    "for i in l:\n",
    "    if i%2 == 0:\n",
    "        print(i)\n",
    "        "
   ]
  },
  {
   "cell_type": "code",
   "execution_count": null,
   "id": "88900b6e",
   "metadata": {},
   "outputs": [],
   "source": [
    "# Write a Python program to print odd numbers in a List?\n",
    "k = [14,18,19,31,24,56,78,37]\n",
    "for i in k:\n",
    "    if i%2 != 0:\n",
    "        print(i)"
   ]
  },
  {
   "cell_type": "code",
   "execution_count": null,
   "id": "26e3cb89",
   "metadata": {},
   "outputs": [],
   "source": [
    "# Write a Python program to Remove empty List from List?\n",
    "l = [12,[1,2,3],56,[],[2],[]]\n",
    "for i in l:\n",
    "    if type(i)== list:\n",
    "        if len(list(i))==0:\n",
    "            l.remove(i)\n",
    "print(l)"
   ]
  },
  {
   "cell_type": "code",
   "execution_count": null,
   "id": "8ae6755d",
   "metadata": {},
   "outputs": [],
   "source": [
    "# Write a Python program to Cloning or Copying a list?\n",
    "l = [12,89,36,25,47,51]\n",
    "clone_list= []\n",
    "for i in l:\n",
    "    clone_list.append(i)\n",
    "print(clone_list)\n",
    "    "
   ]
  },
  {
   "cell_type": "code",
   "execution_count": null,
   "id": "154a3797",
   "metadata": {},
   "outputs": [],
   "source": [
    "# Write a Python program to Count occurrences of an element in a list?\n",
    "a = [1,2,3,1,2,3,5,3,1,3,2,9,7,]\n",
    "sum = []\n",
    "for i in a:\n",
    "    if i ==1:\n",
    "        sum.append(1)\n",
    "print(len(sum))\n",
    "    \n"
   ]
  },
  {
   "cell_type": "code",
   "execution_count": null,
   "id": "e02c2e00",
   "metadata": {},
   "outputs": [],
   "source": []
  }
 ],
 "metadata": {
  "kernelspec": {
   "display_name": "Python 3 (ipykernel)",
   "language": "python",
   "name": "python3"
  },
  "language_info": {
   "codemirror_mode": {
    "name": "ipython",
    "version": 3
   },
   "file_extension": ".py",
   "mimetype": "text/x-python",
   "name": "python",
   "nbconvert_exporter": "python",
   "pygments_lexer": "ipython3",
   "version": "3.9.12"
  }
 },
 "nbformat": 4,
 "nbformat_minor": 5
}
